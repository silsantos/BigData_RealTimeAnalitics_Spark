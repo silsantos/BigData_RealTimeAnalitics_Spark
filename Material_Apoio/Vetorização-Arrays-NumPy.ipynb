{
 "cells": [
  {
   "cell_type": "markdown",
   "metadata": {},
   "source": [
    "## Data Science Academy - Big Data Real-Time Analytics com Python e Spark"
   ]
  },
  {
   "cell_type": "markdown",
   "metadata": {},
   "source": [
    "## NumPy"
   ]
  },
  {
   "cell_type": "markdown",
   "metadata": {},
   "source": [
    "## Vetorização"
   ]
  },
  {
   "cell_type": "markdown",
   "metadata": {},
   "source": [
    "Embora possamos usar list comprehension em arrays numpy, este pode não ser o melhor método e a maneira mais eficiente de se obter o mesmo resultado, seria através de vetorização. Vetorização nos permite aplicar uma função a um array inteiro, ao invés de aplicar a função elemento a elemento (similar ao que fazemos com as funções map() e filter())."
   ]
  },
  {
   "cell_type": "markdown",
   "metadata": {},
   "source": [
    "Ao trabalhar com objetos NumPy e Pandas, existem maneiras mais eficientes de se aplicar uma função a um conjnto de elementos, que serão mais velozes que a aplicação de loops for."
   ]
  },
  {
   "cell_type": "code",
   "execution_count": 1,
   "metadata": {
    "tags": []
   },
   "outputs": [],
   "source": [
    "import numpy as np"
   ]
  },
  {
   "cell_type": "code",
   "execution_count": 2,
   "metadata": {},
   "outputs": [],
   "source": [
    "array1 = np.random.randint(0, 50, 20)"
   ]
  },
  {
   "cell_type": "code",
   "execution_count": 3,
   "metadata": {},
   "outputs": [
    {
     "data": {
      "text/plain": [
       "array([ 3,  8, 15, 20, 13, 36,  2, 41, 48,  2, 24,  4,  9, 17, 36, 15, 20,\n",
       "       47, 42, 35])"
      ]
     },
     "execution_count": 3,
     "metadata": {},
     "output_type": "execute_result"
    }
   ],
   "source": [
    "array1"
   ]
  },
  {
   "cell_type": "code",
   "execution_count": 4,
   "metadata": {},
   "outputs": [],
   "source": [
    "# Criando um função\n",
    "def calc_func(num):\n",
    "    if num < 10:\n",
    "        return num ** 3\n",
    "    else:\n",
    "        return num ** 2"
   ]
  },
  {
   "cell_type": "code",
   "execution_count": 5,
   "metadata": {},
   "outputs": [
    {
     "ename": "ValueError",
     "evalue": "The truth value of an array with more than one element is ambiguous. Use a.any() or a.all()",
     "output_type": "error",
     "traceback": [
      "\u001b[0;31m---------------------------------------------------------------------------\u001b[0m",
      "\u001b[0;31mValueError\u001b[0m                                Traceback (most recent call last)",
      "\u001b[0;32m<ipython-input-5-76346cc62124>\u001b[0m in \u001b[0;36m<module>\u001b[0;34m\u001b[0m\n\u001b[1;32m      1\u001b[0m \u001b[0;31m# Para que a função funcione no objeto array do NumPy, ela precisa ser vetorizada\u001b[0m\u001b[0;34m\u001b[0m\u001b[0;34m\u001b[0m\u001b[0;34m\u001b[0m\u001b[0m\n\u001b[0;32m----> 2\u001b[0;31m \u001b[0mcalc_func\u001b[0m\u001b[0;34m(\u001b[0m\u001b[0marray1\u001b[0m\u001b[0;34m)\u001b[0m\u001b[0;34m\u001b[0m\u001b[0;34m\u001b[0m\u001b[0m\n\u001b[0m",
      "\u001b[0;32m<ipython-input-4-6cc727382582>\u001b[0m in \u001b[0;36mcalc_func\u001b[0;34m(num)\u001b[0m\n\u001b[1;32m      1\u001b[0m \u001b[0;31m# Criando um função\u001b[0m\u001b[0;34m\u001b[0m\u001b[0;34m\u001b[0m\u001b[0;34m\u001b[0m\u001b[0m\n\u001b[1;32m      2\u001b[0m \u001b[0;32mdef\u001b[0m \u001b[0mcalc_func\u001b[0m\u001b[0;34m(\u001b[0m\u001b[0mnum\u001b[0m\u001b[0;34m)\u001b[0m\u001b[0;34m:\u001b[0m\u001b[0;34m\u001b[0m\u001b[0;34m\u001b[0m\u001b[0m\n\u001b[0;32m----> 3\u001b[0;31m     \u001b[0;32mif\u001b[0m \u001b[0mnum\u001b[0m \u001b[0;34m<\u001b[0m \u001b[0;36m10\u001b[0m\u001b[0;34m:\u001b[0m\u001b[0;34m\u001b[0m\u001b[0;34m\u001b[0m\u001b[0m\n\u001b[0m\u001b[1;32m      4\u001b[0m         \u001b[0;32mreturn\u001b[0m \u001b[0mnum\u001b[0m \u001b[0;34m**\u001b[0m \u001b[0;36m3\u001b[0m\u001b[0;34m\u001b[0m\u001b[0;34m\u001b[0m\u001b[0m\n\u001b[1;32m      5\u001b[0m     \u001b[0;32melse\u001b[0m\u001b[0;34m:\u001b[0m\u001b[0;34m\u001b[0m\u001b[0;34m\u001b[0m\u001b[0m\n",
      "\u001b[0;31mValueError\u001b[0m: The truth value of an array with more than one element is ambiguous. Use a.any() or a.all()"
     ]
    }
   ],
   "source": [
    "# Para que a função funcione no objeto array do NumPy, ela precisa ser vetorizada\n",
    "calc_func(array1)"
   ]
  },
  {
   "cell_type": "code",
   "execution_count": 6,
   "metadata": {
    "tags": []
   },
   "outputs": [
    {
     "data": {
      "text/plain": [
       "\u001b[0;31mInit signature:\u001b[0m\n",
       "\u001b[0mnp\u001b[0m\u001b[0;34m.\u001b[0m\u001b[0mvectorize\u001b[0m\u001b[0;34m(\u001b[0m\u001b[0;34m\u001b[0m\n",
       "\u001b[0;34m\u001b[0m    \u001b[0mpyfunc\u001b[0m\u001b[0;34m,\u001b[0m\u001b[0;34m\u001b[0m\n",
       "\u001b[0;34m\u001b[0m    \u001b[0motypes\u001b[0m\u001b[0;34m=\u001b[0m\u001b[0;32mNone\u001b[0m\u001b[0;34m,\u001b[0m\u001b[0;34m\u001b[0m\n",
       "\u001b[0;34m\u001b[0m    \u001b[0mdoc\u001b[0m\u001b[0;34m=\u001b[0m\u001b[0;32mNone\u001b[0m\u001b[0;34m,\u001b[0m\u001b[0;34m\u001b[0m\n",
       "\u001b[0;34m\u001b[0m    \u001b[0mexcluded\u001b[0m\u001b[0;34m=\u001b[0m\u001b[0;32mNone\u001b[0m\u001b[0;34m,\u001b[0m\u001b[0;34m\u001b[0m\n",
       "\u001b[0;34m\u001b[0m    \u001b[0mcache\u001b[0m\u001b[0;34m=\u001b[0m\u001b[0;32mFalse\u001b[0m\u001b[0;34m,\u001b[0m\u001b[0;34m\u001b[0m\n",
       "\u001b[0;34m\u001b[0m    \u001b[0msignature\u001b[0m\u001b[0;34m=\u001b[0m\u001b[0;32mNone\u001b[0m\u001b[0;34m,\u001b[0m\u001b[0;34m\u001b[0m\n",
       "\u001b[0;34m\u001b[0m\u001b[0;34m)\u001b[0m\u001b[0;34m\u001b[0m\u001b[0;34m\u001b[0m\u001b[0m\n",
       "\u001b[0;31mDocstring:\u001b[0m     \n",
       "vectorize(pyfunc, otypes=None, doc=None, excluded=None, cache=False,\n",
       "          signature=None)\n",
       "\n",
       "Generalized function class.\n",
       "\n",
       "Define a vectorized function which takes a nested sequence of objects or\n",
       "numpy arrays as inputs and returns a single numpy array or a tuple of numpy\n",
       "arrays. The vectorized function evaluates `pyfunc` over successive tuples\n",
       "of the input arrays like the python map function, except it uses the\n",
       "broadcasting rules of numpy.\n",
       "\n",
       "The data type of the output of `vectorized` is determined by calling\n",
       "the function with the first element of the input.  This can be avoided\n",
       "by specifying the `otypes` argument.\n",
       "\n",
       "Parameters\n",
       "----------\n",
       "pyfunc : callable\n",
       "    A python function or method.\n",
       "otypes : str or list of dtypes, optional\n",
       "    The output data type. It must be specified as either a string of\n",
       "    typecode characters or a list of data type specifiers. There should\n",
       "    be one data type specifier for each output.\n",
       "doc : str, optional\n",
       "    The docstring for the function. If None, the docstring will be the\n",
       "    ``pyfunc.__doc__``.\n",
       "excluded : set, optional\n",
       "    Set of strings or integers representing the positional or keyword\n",
       "    arguments for which the function will not be vectorized.  These will be\n",
       "    passed directly to `pyfunc` unmodified.\n",
       "\n",
       "    .. versionadded:: 1.7.0\n",
       "\n",
       "cache : bool, optional\n",
       "    If `True`, then cache the first function call that determines the number\n",
       "    of outputs if `otypes` is not provided.\n",
       "\n",
       "    .. versionadded:: 1.7.0\n",
       "\n",
       "signature : string, optional\n",
       "    Generalized universal function signature, e.g., ``(m,n),(n)->(m)`` for\n",
       "    vectorized matrix-vector multiplication. If provided, ``pyfunc`` will\n",
       "    be called with (and expected to return) arrays with shapes given by the\n",
       "    size of corresponding core dimensions. By default, ``pyfunc`` is\n",
       "    assumed to take scalars as input and output.\n",
       "\n",
       "    .. versionadded:: 1.12.0\n",
       "\n",
       "Returns\n",
       "-------\n",
       "vectorized : callable\n",
       "    Vectorized function.\n",
       "\n",
       "See Also\n",
       "--------\n",
       "frompyfunc : Takes an arbitrary Python function and returns a ufunc\n",
       "\n",
       "Notes\n",
       "-----\n",
       "The `vectorize` function is provided primarily for convenience, not for\n",
       "performance. The implementation is essentially a for loop.\n",
       "\n",
       "If `otypes` is not specified, then a call to the function with the\n",
       "first argument will be used to determine the number of outputs.  The\n",
       "results of this call will be cached if `cache` is `True` to prevent\n",
       "calling the function twice.  However, to implement the cache, the\n",
       "original function must be wrapped which will slow down subsequent\n",
       "calls, so only do this if your function is expensive.\n",
       "\n",
       "The new keyword argument interface and `excluded` argument support\n",
       "further degrades performance.\n",
       "\n",
       "References\n",
       "----------\n",
       ".. [1] :doc:`/reference/c-api/generalized-ufuncs`\n",
       "\n",
       "Examples\n",
       "--------\n",
       ">>> def myfunc(a, b):\n",
       "...     \"Return a-b if a>b, otherwise return a+b\"\n",
       "...     if a > b:\n",
       "...         return a - b\n",
       "...     else:\n",
       "...         return a + b\n",
       "\n",
       ">>> vfunc = np.vectorize(myfunc)\n",
       ">>> vfunc([1, 2, 3, 4], 2)\n",
       "array([3, 4, 1, 2])\n",
       "\n",
       "The docstring is taken from the input function to `vectorize` unless it\n",
       "is specified:\n",
       "\n",
       ">>> vfunc.__doc__\n",
       "'Return a-b if a>b, otherwise return a+b'\n",
       ">>> vfunc = np.vectorize(myfunc, doc='Vectorized `myfunc`')\n",
       ">>> vfunc.__doc__\n",
       "'Vectorized `myfunc`'\n",
       "\n",
       "The output type is determined by evaluating the first element of the input,\n",
       "unless it is specified:\n",
       "\n",
       ">>> out = vfunc([1, 2, 3, 4], 2)\n",
       ">>> type(out[0])\n",
       "<class 'numpy.int64'>\n",
       ">>> vfunc = np.vectorize(myfunc, otypes=[float])\n",
       ">>> out = vfunc([1, 2, 3, 4], 2)\n",
       ">>> type(out[0])\n",
       "<class 'numpy.float64'>\n",
       "\n",
       "The `excluded` argument can be used to prevent vectorizing over certain\n",
       "arguments.  This can be useful for array-like arguments of a fixed length\n",
       "such as the coefficients for a polynomial as in `polyval`:\n",
       "\n",
       ">>> def mypolyval(p, x):\n",
       "...     _p = list(p)\n",
       "...     res = _p.pop(0)\n",
       "...     while _p:\n",
       "...         res = res*x + _p.pop(0)\n",
       "...     return res\n",
       ">>> vpolyval = np.vectorize(mypolyval, excluded=['p'])\n",
       ">>> vpolyval(p=[1, 2, 3], x=[0, 1])\n",
       "array([3, 6])\n",
       "\n",
       "Positional arguments may also be excluded by specifying their position:\n",
       "\n",
       ">>> vpolyval.excluded.add(0)\n",
       ">>> vpolyval([1, 2, 3], x=[0, 1])\n",
       "array([3, 6])\n",
       "\n",
       "The `signature` argument allows for vectorizing functions that act on\n",
       "non-scalar arrays of fixed length. For example, you can use it for a\n",
       "vectorized calculation of Pearson correlation coefficient and its p-value:\n",
       "\n",
       ">>> import scipy.stats\n",
       ">>> pearsonr = np.vectorize(scipy.stats.pearsonr,\n",
       "...                 signature='(n),(n)->(),()')\n",
       ">>> pearsonr([[0, 1, 2, 3]], [[1, 2, 3, 4], [4, 3, 2, 1]])\n",
       "(array([ 1., -1.]), array([ 0.,  0.]))\n",
       "\n",
       "Or for a vectorized convolution:\n",
       "\n",
       ">>> convolve = np.vectorize(np.convolve, signature='(n),(m)->(k)')\n",
       ">>> convolve(np.eye(4), [1, 2, 1])\n",
       "array([[1., 2., 1., 0., 0., 0.],\n",
       "       [0., 1., 2., 1., 0., 0.],\n",
       "       [0., 0., 1., 2., 1., 0.],\n",
       "       [0., 0., 0., 1., 2., 1.]])\n",
       "\u001b[0;31mFile:\u001b[0m           ~/miniconda3/lib/python3.9/site-packages/numpy/__init__.py\n",
       "\u001b[0;31mType:\u001b[0m           type\n",
       "\u001b[0;31mSubclasses:\u001b[0m     \n"
      ]
     },
     "metadata": {},
     "output_type": "display_data"
    }
   ],
   "source": [
    "?np.vectorize"
   ]
  },
  {
   "cell_type": "code",
   "execution_count": 7,
   "metadata": {
    "tags": []
   },
   "outputs": [],
   "source": [
    "# Vetorizando a função\n",
    "v_calc_func = np.vectorize(calc_func)"
   ]
  },
  {
   "cell_type": "code",
   "execution_count": 8,
   "metadata": {},
   "outputs": [
    {
     "data": {
      "text/plain": [
       "numpy.lib.function_base.vectorize"
      ]
     },
     "execution_count": 8,
     "metadata": {},
     "output_type": "execute_result"
    }
   ],
   "source": [
    "type (v_calc_func)"
   ]
  },
  {
   "cell_type": "code",
   "execution_count": 9,
   "metadata": {},
   "outputs": [
    {
     "data": {
      "text/plain": [
       "array([1156,  784, 2401, 2025, 2209,  216,  784,  784,  121,  144,    0,\n",
       "        484,  256, 1600, 1089,  225, 1521,  900,  100,  361])"
      ]
     },
     "execution_count": 9,
     "metadata": {},
     "output_type": "execute_result"
    }
   ],
   "source": [
    "# Aplicando a função vetorizada ao array3 NumPy\n",
    "v_calc_func(array1)"
   ]
  },
  {
   "cell_type": "code",
   "execution_count": 10,
   "metadata": {},
   "outputs": [
    {
     "data": {
      "text/plain": [
       "[1156,\n",
       " 784,\n",
       " 2401,\n",
       " 2025,\n",
       " 2209,\n",
       " 216,\n",
       " 784,\n",
       " 784,\n",
       " 121,\n",
       " 144,\n",
       " 0,\n",
       " 484,\n",
       " 256,\n",
       " 1600,\n",
       " 1089,\n",
       " 225,\n",
       " 1521,\n",
       " 900,\n",
       " 100,\n",
       " 361]"
      ]
     },
     "execution_count": 10,
     "metadata": {},
     "output_type": "execute_result"
    }
   ],
   "source": [
    " list(map(calc_func, array1))"
   ]
  },
  {
   "cell_type": "code",
   "execution_count": 11,
   "metadata": {},
   "outputs": [
    {
     "data": {
      "text/plain": [
       "[1156,\n",
       " 784,\n",
       " 2401,\n",
       " 2025,\n",
       " 2209,\n",
       " 216,\n",
       " 784,\n",
       " 784,\n",
       " 121,\n",
       " 144,\n",
       " 0,\n",
       " 484,\n",
       " 256,\n",
       " 1600,\n",
       " 1089,\n",
       " 225,\n",
       " 1521,\n",
       " 900,\n",
       " 100,\n",
       " 361]"
      ]
     },
     "execution_count": 11,
     "metadata": {},
     "output_type": "execute_result"
    }
   ],
   "source": [
    "# Podemos usar list comprehension for para obter o mesmo resutado, sem vetorizar a função\n",
    "[calc_func(x) for x in array1]"
   ]
  },
  {
   "cell_type": "markdown",
   "metadata": {},
   "source": [
    "No Python 3, a list comprehension recebeu atualizações e ficou muito mais rápida e eficiente, uma vez que ela é amplamente utilizada em programação Python. Lembre-se sempre de checar a documentação antes de decidir como você irá manipular suas estruturas de dados."
   ]
  },
  {
   "cell_type": "code",
   "execution_count": 12,
   "metadata": {},
   "outputs": [
    {
     "name": "stdout",
     "output_type": "stream",
     "text": [
      "100000 loops, best of 3: 9.23 µs per loop\n",
      "10000 loops, best of 3: 25.3 µs per loop\n",
      "100000 loops, best of 3: 8.51 µs per loop\n"
     ]
    }
   ],
   "source": [
    "%timeit [calc_func(x) for x in array1]\n",
    "%timeit v_calc_func(array1)\n",
    "%timeit list(map(calc_func, array1))"
   ]
  },
  {
   "cell_type": "code",
   "execution_count": 13,
   "metadata": {},
   "outputs": [],
   "source": [
    "array2 = np.random.randint(0, 100, 20 * 1000)"
   ]
  },
  {
   "cell_type": "code",
   "execution_count": 14,
   "metadata": {},
   "outputs": [
    {
     "name": "stdout",
     "output_type": "stream",
     "text": [
      "100 loops, best of 3: 7.79 ms per loop\n",
      "100 loops, best of 3: 9.55 ms per loop\n",
      "100 loops, best of 3: 7.11 ms per loop\n"
     ]
    }
   ],
   "source": [
    "%timeit [calc_func(x) for x in array2]\n",
    "%timeit v_calc_func(array2)\n",
    "%timeit list(map(calc_func, array2))"
   ]
  },
  {
   "cell_type": "markdown",
   "metadata": {},
   "source": [
    "Utilizar as versões mais recentes de um software pode trazer problemas de compatibilidade com aplicações existentes, mas é grande a possibilidade trazerem melhorias em performance e novas funcionalidades."
   ]
  }
 ],
 "metadata": {
  "anaconda-cloud": {},
  "kernelspec": {
   "display_name": "Python 3",
   "language": "python",
   "name": "python3"
  },
  "language_info": {
   "codemirror_mode": {
    "name": "ipython",
    "version": 3
   },
   "file_extension": ".py",
   "mimetype": "text/x-python",
   "name": "python",
   "nbconvert_exporter": "python",
   "pygments_lexer": "ipython3",
   "version": "3.9.1"
  }
 },
 "nbformat": 4,
 "nbformat_minor": 4
}
